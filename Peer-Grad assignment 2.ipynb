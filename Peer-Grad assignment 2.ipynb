{
 "cells": [
  {
   "cell_type": "markdown",
   "metadata": {
    "collapsed": true
   },
   "source": [
    "# \"My Jupyter Notebook on IBM Watson Studio\""
   ]
  },
  {
   "cell_type": "markdown",
   "metadata": {},
   "source": [
    "### Sarvesh patil.\n",
    "B.tech student"
   ]
  },
  {
   "cell_type": "markdown",
   "metadata": {},
   "source": [
    "*Iam intersted in Data sceience because Data Science is greatly in demand. Prospective job seekers have numerous opportunities.*"
   ]
  },
  {
   "cell_type": "markdown",
   "metadata": {},
   "source": [
    "### The following code has two variable set to 4 & 5,& third variable which stores the addition of first two number."
   ]
  },
  {
   "cell_type": "code",
   "execution_count": 1,
   "metadata": {},
   "outputs": [
    {
     "name": "stdout",
     "output_type": "stream",
     "text": [
      "Addition of a & b is 9\n"
     ]
    }
   ],
   "source": [
    "a=4\n",
    "b=5\n",
    "c=a+b\n",
    "print(\"Addition of a & b is\", c)"
   ]
  },
  {
   "cell_type": "markdown",
   "metadata": {},
   "source": [
    "### My favriote Football team's are :- \n",
    "|No.|Team's           |\n",
    "|---|-----------------|\n",
    "|1. |FC Barcelona     |\n",
    "|2. |Manchester United|\n",
    "|3. |Real madrid      |\n",
    "\n",
    "## Here is why I love Football :\n",
    "\n",
    "1. In comparison to other sports, soccer is a game that is more player-focused than other.\n",
    "2. The sport gives you more liberty to play the game with fewer restrictions and gives you the opportunity to shine more on the individual side.\n",
    "3. This is the game which teaches coordination."
   ]
  },
  {
   "cell_type": "code",
   "execution_count": null,
   "metadata": {},
   "outputs": [],
   "source": []
  }
 ],
 "metadata": {
  "kernelspec": {
   "display_name": "Python 3.9",
   "language": "python",
   "name": "python3"
  },
  "language_info": {
   "codemirror_mode": {
    "name": "ipython",
    "version": 3
   },
   "file_extension": ".py",
   "mimetype": "text/x-python",
   "name": "python",
   "nbconvert_exporter": "python",
   "pygments_lexer": "ipython3",
   "version": "3.9.13"
  }
 },
 "nbformat": 4,
 "nbformat_minor": 1
}
